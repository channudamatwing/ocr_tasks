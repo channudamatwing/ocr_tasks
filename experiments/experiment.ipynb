{
  "nbformat": 4,
  "nbformat_minor": 0,
  "metadata": {
    "colab": {
      "provenance": []
    },
    "kernelspec": {
      "name": "python3",
      "display_name": "Python 3"
    },
    "language_info": {
      "name": "python"
    },
    "widgets": {
      "application/vnd.jupyter.widget-state+json": {
        "1618dd4587da4750a7f59326ca1236fd": {
          "model_module": "@jupyter-widgets/controls",
          "model_name": "HBoxModel",
          "model_module_version": "1.5.0",
          "state": {
            "_dom_classes": [],
            "_model_module": "@jupyter-widgets/controls",
            "_model_module_version": "1.5.0",
            "_model_name": "HBoxModel",
            "_view_count": null,
            "_view_module": "@jupyter-widgets/controls",
            "_view_module_version": "1.5.0",
            "_view_name": "HBoxView",
            "box_style": "",
            "children": [
              "IPY_MODEL_1629fc8a978346bf939817878b2a5f8a",
              "IPY_MODEL_119b43f8e4e04f8ea6c32d231c994ce9",
              "IPY_MODEL_b7bc98c1136e49a085181d84180f3817"
            ],
            "layout": "IPY_MODEL_4619262490f64fa1b35e81e1b154976f"
          }
        },
        "1629fc8a978346bf939817878b2a5f8a": {
          "model_module": "@jupyter-widgets/controls",
          "model_name": "HTMLModel",
          "model_module_version": "1.5.0",
          "state": {
            "_dom_classes": [],
            "_model_module": "@jupyter-widgets/controls",
            "_model_module_version": "1.5.0",
            "_model_name": "HTMLModel",
            "_view_count": null,
            "_view_module": "@jupyter-widgets/controls",
            "_view_module_version": "1.5.0",
            "_view_name": "HTMLView",
            "description": "",
            "description_tooltip": null,
            "layout": "IPY_MODEL_7c9c7b0f483743ae91cfacd6a178fc11",
            "placeholder": "​",
            "style": "IPY_MODEL_8d7a23028efa4b3db73745cf3f79f3dd",
            "value": "Map: 100%"
          }
        },
        "119b43f8e4e04f8ea6c32d231c994ce9": {
          "model_module": "@jupyter-widgets/controls",
          "model_name": "FloatProgressModel",
          "model_module_version": "1.5.0",
          "state": {
            "_dom_classes": [],
            "_model_module": "@jupyter-widgets/controls",
            "_model_module_version": "1.5.0",
            "_model_name": "FloatProgressModel",
            "_view_count": null,
            "_view_module": "@jupyter-widgets/controls",
            "_view_module_version": "1.5.0",
            "_view_name": "ProgressView",
            "bar_style": "success",
            "description": "",
            "description_tooltip": null,
            "layout": "IPY_MODEL_d4435ad55e2d44b8bc61bc441ea732d2",
            "max": 1080,
            "min": 0,
            "orientation": "horizontal",
            "style": "IPY_MODEL_f3265f8a88e04e819cec1509f3427537",
            "value": 1080
          }
        },
        "b7bc98c1136e49a085181d84180f3817": {
          "model_module": "@jupyter-widgets/controls",
          "model_name": "HTMLModel",
          "model_module_version": "1.5.0",
          "state": {
            "_dom_classes": [],
            "_model_module": "@jupyter-widgets/controls",
            "_model_module_version": "1.5.0",
            "_model_name": "HTMLModel",
            "_view_count": null,
            "_view_module": "@jupyter-widgets/controls",
            "_view_module_version": "1.5.0",
            "_view_name": "HTMLView",
            "description": "",
            "description_tooltip": null,
            "layout": "IPY_MODEL_b29e1abd205740009555e27fdc9c5215",
            "placeholder": "​",
            "style": "IPY_MODEL_747b7ea6845145e09187015f590565a7",
            "value": " 1080/1080 [03:35&lt;00:00,  5.09 examples/s]"
          }
        },
        "4619262490f64fa1b35e81e1b154976f": {
          "model_module": "@jupyter-widgets/base",
          "model_name": "LayoutModel",
          "model_module_version": "1.2.0",
          "state": {
            "_model_module": "@jupyter-widgets/base",
            "_model_module_version": "1.2.0",
            "_model_name": "LayoutModel",
            "_view_count": null,
            "_view_module": "@jupyter-widgets/base",
            "_view_module_version": "1.2.0",
            "_view_name": "LayoutView",
            "align_content": null,
            "align_items": null,
            "align_self": null,
            "border": null,
            "bottom": null,
            "display": null,
            "flex": null,
            "flex_flow": null,
            "grid_area": null,
            "grid_auto_columns": null,
            "grid_auto_flow": null,
            "grid_auto_rows": null,
            "grid_column": null,
            "grid_gap": null,
            "grid_row": null,
            "grid_template_areas": null,
            "grid_template_columns": null,
            "grid_template_rows": null,
            "height": null,
            "justify_content": null,
            "justify_items": null,
            "left": null,
            "margin": null,
            "max_height": null,
            "max_width": null,
            "min_height": null,
            "min_width": null,
            "object_fit": null,
            "object_position": null,
            "order": null,
            "overflow": null,
            "overflow_x": null,
            "overflow_y": null,
            "padding": null,
            "right": null,
            "top": null,
            "visibility": null,
            "width": null
          }
        },
        "7c9c7b0f483743ae91cfacd6a178fc11": {
          "model_module": "@jupyter-widgets/base",
          "model_name": "LayoutModel",
          "model_module_version": "1.2.0",
          "state": {
            "_model_module": "@jupyter-widgets/base",
            "_model_module_version": "1.2.0",
            "_model_name": "LayoutModel",
            "_view_count": null,
            "_view_module": "@jupyter-widgets/base",
            "_view_module_version": "1.2.0",
            "_view_name": "LayoutView",
            "align_content": null,
            "align_items": null,
            "align_self": null,
            "border": null,
            "bottom": null,
            "display": null,
            "flex": null,
            "flex_flow": null,
            "grid_area": null,
            "grid_auto_columns": null,
            "grid_auto_flow": null,
            "grid_auto_rows": null,
            "grid_column": null,
            "grid_gap": null,
            "grid_row": null,
            "grid_template_areas": null,
            "grid_template_columns": null,
            "grid_template_rows": null,
            "height": null,
            "justify_content": null,
            "justify_items": null,
            "left": null,
            "margin": null,
            "max_height": null,
            "max_width": null,
            "min_height": null,
            "min_width": null,
            "object_fit": null,
            "object_position": null,
            "order": null,
            "overflow": null,
            "overflow_x": null,
            "overflow_y": null,
            "padding": null,
            "right": null,
            "top": null,
            "visibility": null,
            "width": null
          }
        },
        "8d7a23028efa4b3db73745cf3f79f3dd": {
          "model_module": "@jupyter-widgets/controls",
          "model_name": "DescriptionStyleModel",
          "model_module_version": "1.5.0",
          "state": {
            "_model_module": "@jupyter-widgets/controls",
            "_model_module_version": "1.5.0",
            "_model_name": "DescriptionStyleModel",
            "_view_count": null,
            "_view_module": "@jupyter-widgets/base",
            "_view_module_version": "1.2.0",
            "_view_name": "StyleView",
            "description_width": ""
          }
        },
        "d4435ad55e2d44b8bc61bc441ea732d2": {
          "model_module": "@jupyter-widgets/base",
          "model_name": "LayoutModel",
          "model_module_version": "1.2.0",
          "state": {
            "_model_module": "@jupyter-widgets/base",
            "_model_module_version": "1.2.0",
            "_model_name": "LayoutModel",
            "_view_count": null,
            "_view_module": "@jupyter-widgets/base",
            "_view_module_version": "1.2.0",
            "_view_name": "LayoutView",
            "align_content": null,
            "align_items": null,
            "align_self": null,
            "border": null,
            "bottom": null,
            "display": null,
            "flex": null,
            "flex_flow": null,
            "grid_area": null,
            "grid_auto_columns": null,
            "grid_auto_flow": null,
            "grid_auto_rows": null,
            "grid_column": null,
            "grid_gap": null,
            "grid_row": null,
            "grid_template_areas": null,
            "grid_template_columns": null,
            "grid_template_rows": null,
            "height": null,
            "justify_content": null,
            "justify_items": null,
            "left": null,
            "margin": null,
            "max_height": null,
            "max_width": null,
            "min_height": null,
            "min_width": null,
            "object_fit": null,
            "object_position": null,
            "order": null,
            "overflow": null,
            "overflow_x": null,
            "overflow_y": null,
            "padding": null,
            "right": null,
            "top": null,
            "visibility": null,
            "width": null
          }
        },
        "f3265f8a88e04e819cec1509f3427537": {
          "model_module": "@jupyter-widgets/controls",
          "model_name": "ProgressStyleModel",
          "model_module_version": "1.5.0",
          "state": {
            "_model_module": "@jupyter-widgets/controls",
            "_model_module_version": "1.5.0",
            "_model_name": "ProgressStyleModel",
            "_view_count": null,
            "_view_module": "@jupyter-widgets/base",
            "_view_module_version": "1.2.0",
            "_view_name": "StyleView",
            "bar_color": null,
            "description_width": ""
          }
        },
        "b29e1abd205740009555e27fdc9c5215": {
          "model_module": "@jupyter-widgets/base",
          "model_name": "LayoutModel",
          "model_module_version": "1.2.0",
          "state": {
            "_model_module": "@jupyter-widgets/base",
            "_model_module_version": "1.2.0",
            "_model_name": "LayoutModel",
            "_view_count": null,
            "_view_module": "@jupyter-widgets/base",
            "_view_module_version": "1.2.0",
            "_view_name": "LayoutView",
            "align_content": null,
            "align_items": null,
            "align_self": null,
            "border": null,
            "bottom": null,
            "display": null,
            "flex": null,
            "flex_flow": null,
            "grid_area": null,
            "grid_auto_columns": null,
            "grid_auto_flow": null,
            "grid_auto_rows": null,
            "grid_column": null,
            "grid_gap": null,
            "grid_row": null,
            "grid_template_areas": null,
            "grid_template_columns": null,
            "grid_template_rows": null,
            "height": null,
            "justify_content": null,
            "justify_items": null,
            "left": null,
            "margin": null,
            "max_height": null,
            "max_width": null,
            "min_height": null,
            "min_width": null,
            "object_fit": null,
            "object_position": null,
            "order": null,
            "overflow": null,
            "overflow_x": null,
            "overflow_y": null,
            "padding": null,
            "right": null,
            "top": null,
            "visibility": null,
            "width": null
          }
        },
        "747b7ea6845145e09187015f590565a7": {
          "model_module": "@jupyter-widgets/controls",
          "model_name": "DescriptionStyleModel",
          "model_module_version": "1.5.0",
          "state": {
            "_model_module": "@jupyter-widgets/controls",
            "_model_module_version": "1.5.0",
            "_model_name": "DescriptionStyleModel",
            "_view_count": null,
            "_view_module": "@jupyter-widgets/base",
            "_view_module_version": "1.2.0",
            "_view_name": "StyleView",
            "description_width": ""
          }
        }
      }
    }
  },
  "cells": [
    {
      "cell_type": "code",
      "execution_count": null,
      "metadata": {
        "id": "BIvip5xVtqWo"
      },
      "outputs": [],
      "source": [
        "%pip install datasets"
      ]
    },
    {
      "cell_type": "code",
      "source": [
        "import numpy as np\n",
        "import matplotlib.pyplot as plt\n",
        "import os\n",
        "import tensorflow as tf\n",
        "import cv2\n",
        "\n",
        "from datasets import Dataset, Features, Array3D, Value\n",
        "from transformers import TrOCRProcessor, AutoTokenizer, TFVisionEncoderDecoderModel, AutoModelForCausalLM, VisionEncoderDecoderConfig\n",
        "from keras.preprocessing.image import ImageDataGenerator\n",
        "from keras.callbacks import ModelCheckpoint\n",
        "from keras.losses import SparseCategoricalCrossentropy, Reduction\n",
        "from IPython.display import clear_output\n",
        "\n",
        "tf.keras.backend.clear_session()\n",
        "\n",
        "processor_checkpoint = \"microsoft/trocr-base-handwritten\"\n",
        "tokenizer_checkpoint = \"FacebookAI/xlm-roberta-base\"\n",
        "tokenizer = AutoTokenizer.from_pretrained(tokenizer_checkpoint, force_download=True)\n",
        "processor = TrOCRProcessor.from_pretrained(processor_checkpoint, force_download=True)\n",
        "\n",
        "def transform_image(image):\n",
        "    image = cv2.resize(image, (224, 224), interpolation = cv2.INTER_AREA)\n",
        "    return image\n",
        "\n",
        "def process_data(batch):\n",
        "    images = [np.asarray(image) for image in batch['image']]\n",
        "    # pixel_values = processor(images, return_tensors=\"tf\", do_rescale=False, do_normalize=False).pixel_values\n",
        "    pixel_values = processor(images, do_rescale=False, return_tensors=\"tf\").pixel_values\n",
        "    encoded_labels = tokenizer(batch['label'], padding=\"max_length\", truncation=True, max_length=50, return_tensors=\"tf\")\n",
        "    return {\n",
        "        \"pixel_values\": pixel_values,\n",
        "        \"decoder_input_ids\": encoded_labels['input_ids'],\n",
        "        \"decoder_attention_mask\": encoded_labels['attention_mask'],\n",
        "        \"labels\": encoded_labels['input_ids']}\n",
        "clear_output()"
      ],
      "metadata": {
        "id": "7o3PCxSxt4vb"
      },
      "execution_count": 6,
      "outputs": []
    },
    {
      "cell_type": "code",
      "source": [
        "# read image\n",
        "print(\"-----START TO READ IMAGES-----\")\n",
        "image_path = \"cropped_images_boc_00_cleaned\"\n",
        "files = os.listdir(image_path)\n",
        "images = np.asarray([cv2.cvtColor(plt.imread(os.path.join(image_path, file)), cv2.COLOR_RGB2BGR) for file in files], dtype=\"object\")\n",
        "image_names = np.asarray([os.path.splitext(file)[0].split(\" \")[0] for file in files], dtype=\"object\")"
      ],
      "metadata": {
        "colab": {
          "base_uri": "https://localhost:8080/"
        },
        "id": "TN3OgVlKt-h-",
        "outputId": "4f92c463-80da-4e55-97ce-a532ddbab7d9"
      },
      "execution_count": 4,
      "outputs": [
        {
          "output_type": "stream",
          "name": "stdout",
          "text": [
            "-----START TO READ IMAGES-----\n"
          ]
        }
      ]
    },
    {
      "cell_type": "code",
      "source": [
        "# apply image augmentation\n",
        "print(\"-----START TO AUGMENT IMAGES-----\")\n",
        "new_images = []\n",
        "new_image_names = []\n",
        "idx = 0\n",
        "datagen = ImageDataGenerator(rotation_range=5, shear_range=0.5, zoom_range=0.1, fill_mode='nearest')\n",
        "for image in images:\n",
        "    new_images.append(image)\n",
        "    new_image_names.append(image_names[idx])\n",
        "    raw_img = np.expand_dims(image, axis=0)\n",
        "    aug_iter = datagen.flow(raw_img, batch_size=1)\n",
        "    for i in range(4):\n",
        "        augmented_images = next(aug_iter)\n",
        "        augmented_bgr_image = augmented_images[0].astype(np.uint8)\n",
        "        new_images.append(augmented_bgr_image)\n",
        "        new_image_names.append(image_names[idx])\n",
        "    idx = idx+1\n",
        "new_images = np.asarray(new_images, dtype=\"object\")\n",
        "new_images = np.asarray([transform_image(image) for image in new_images], dtype=\"object\")\n",
        "new_image_names = np.asarray(new_image_names, dtype=\"object\")"
      ],
      "metadata": {
        "colab": {
          "base_uri": "https://localhost:8080/"
        },
        "id": "WuQ1JsdVuHa4",
        "outputId": "c604b028-fd8a-4366-8a4e-697dd83d3340"
      },
      "execution_count": 5,
      "outputs": [
        {
          "output_type": "stream",
          "name": "stdout",
          "text": [
            "-----START TO AUGMENT IMAGES-----\n"
          ]
        }
      ]
    },
    {
      "cell_type": "code",
      "source": [
        "# convert data to huggingface dataset\n",
        "print(\"-----START TO CONVERT TO HUGGINGFACE DATASET OBJECT-----\")\n",
        "features = Features({\n",
        "    'image': Array3D(dtype=\"float32\", shape=(224, 224, 3)),\n",
        "    'label': Value(dtype=\"string\")})\n",
        "data = [{'image': image, 'label': label} for image, label in zip(new_images, new_image_names)]\n",
        "dataset = Dataset.from_list(data, features=features)"
      ],
      "metadata": {
        "colab": {
          "base_uri": "https://localhost:8080/"
        },
        "id": "qzQhDo76uLpK",
        "outputId": "e7a1ac8d-8a1d-46d2-acb2-15d9413dd54e"
      },
      "execution_count": 7,
      "outputs": [
        {
          "output_type": "stream",
          "name": "stdout",
          "text": [
            "-----START TO CONVERT TO HUGGINGFACE DATASET OBJECT-----\n"
          ]
        }
      ]
    },
    {
      "cell_type": "code",
      "source": [
        "# convert to tf cdataset\n",
        "print(\"-----START TO CONVERT TO TENSORFLOW DATASET OBJECT-----\")\n",
        "dataset = dataset.map(process_data, batched=True, batch_size=32, remove_columns=['image', 'label'])\n",
        "dataset = dataset.train_test_split(test_size=0.1, shuffle=True)\n",
        "train_dataset = dataset['train'].to_tf_dataset(\n",
        "    columns=['pixel_values', 'decoder_input_ids', 'decoder_attention_mask'],\n",
        "    label_cols='labels',\n",
        "    batch_size=4,\n",
        "    shuffle=True\n",
        ")\n",
        "test_dataset = dataset['test'].to_tf_dataset(\n",
        "    columns=['pixel_values', 'decoder_input_ids', 'decoder_attention_mask'],\n",
        "    label_cols='labels',\n",
        "    batch_size=4,\n",
        "    shuffle=True\n",
        ")"
      ],
      "metadata": {
        "colab": {
          "base_uri": "https://localhost:8080/",
          "height": 66,
          "referenced_widgets": [
            "1618dd4587da4750a7f59326ca1236fd",
            "1629fc8a978346bf939817878b2a5f8a",
            "119b43f8e4e04f8ea6c32d231c994ce9",
            "b7bc98c1136e49a085181d84180f3817",
            "4619262490f64fa1b35e81e1b154976f",
            "7c9c7b0f483743ae91cfacd6a178fc11",
            "8d7a23028efa4b3db73745cf3f79f3dd",
            "d4435ad55e2d44b8bc61bc441ea732d2",
            "f3265f8a88e04e819cec1509f3427537",
            "b29e1abd205740009555e27fdc9c5215",
            "747b7ea6845145e09187015f590565a7"
          ]
        },
        "id": "x6Ac_N8YudwD",
        "outputId": "2312239f-6262-4220-ebbc-a0f06202c408"
      },
      "execution_count": 8,
      "outputs": [
        {
          "output_type": "stream",
          "name": "stdout",
          "text": [
            "-----START TO CONVERT TO TENSORFLOW DATASET OBJECT-----\n"
          ]
        },
        {
          "output_type": "display_data",
          "data": {
            "text/plain": [
              "Map:   0%|          | 0/1080 [00:00<?, ? examples/s]"
            ],
            "application/vnd.jupyter.widget-view+json": {
              "version_major": 2,
              "version_minor": 0,
              "model_id": "1618dd4587da4750a7f59326ca1236fd"
            }
          },
          "metadata": {}
        }
      ]
    },
    {
      "cell_type": "code",
      "source": [
        "# construct_model\n",
        "print(\"-----START TO CONSTRUCT THE MODEL-----\")\n",
        "optimizer = tf.keras.optimizers.Adam(learning_rate=5e-5)\n",
        "config_encoder = VisionEncoderDecoderConfig.from_pretrained(processor_checkpoint).encoder\n",
        "config_decoder = AutoModelForCausalLM.from_pretrained(tokenizer_checkpoint, is_decoder=True).config\n",
        "config = VisionEncoderDecoderConfig.from_encoder_decoder_configs(config_encoder, config_decoder)\n",
        "model = TFVisionEncoderDecoderModel(config=config)\n",
        "model.config.decoder_start_token_id = tokenizer.cls_token_id\n",
        "model.config.pad_token_id = tokenizer.pad_token_id\n",
        "model.config.vocab_size = model.config.decoder.vocab_size\n",
        "model.compile(optimizer=optimizer)"
      ],
      "metadata": {
        "colab": {
          "base_uri": "https://localhost:8080/"
        },
        "id": "5QhiF2SyuyqR",
        "outputId": "0c525aa5-87ea-4620-c4b9-3c9947220d0a"
      },
      "execution_count": 13,
      "outputs": [
        {
          "output_type": "stream",
          "name": "stdout",
          "text": [
            "-----START TO CONSTRUCT THE MODEL-----\n"
          ]
        }
      ]
    },
    {
      "cell_type": "code",
      "source": [
        "model.build()\n",
        "model.summary()"
      ],
      "metadata": {
        "colab": {
          "base_uri": "https://localhost:8080/"
        },
        "id": "QoC-bQ4yvxm9",
        "outputId": "67665cf5-5eda-4f7d-af61-7d8934ac13d1"
      },
      "execution_count": 10,
      "outputs": [
        {
          "output_type": "stream",
          "name": "stdout",
          "text": [
            "Model: \"tf_vision_encoder_decoder_model\"\n",
            "_________________________________________________________________\n",
            " Layer (type)                Output Shape              Param #   \n",
            "=================================================================\n",
            " encoder (TFViTModel)        multiple                  86681088  \n",
            "                                                                 \n",
            " decoder (TFXLMRobertaForCa  multiple                  306662034 \n",
            " usalLM)                                                         \n",
            "                                                                 \n",
            "=================================================================\n",
            "Total params: 393343122 (1.47 GB)\n",
            "Trainable params: 393343122 (1.47 GB)\n",
            "Non-trainable params: 0 (0.00 Byte)\n",
            "_________________________________________________________________\n"
          ]
        }
      ]
    },
    {
      "cell_type": "code",
      "source": [
        "checkpoint_filepath = 'tmp/ckpt/checkpoint.weights.h5'\n",
        "model_checkpoint_callback = ModelCheckpoint(filepath=checkpoint_filepath,save_weights_only=True, mode='max')\n",
        "model.fit(train_dataset, validation_data=test_dataset, epochs=3, verbose=1, callbacks=[model_checkpoint_callback])"
      ],
      "metadata": {
        "colab": {
          "base_uri": "https://localhost:8080/"
        },
        "id": "hUTMXMFsvyFY",
        "outputId": "7206ac14-8b52-4f74-9c4d-fdc16f358af0"
      },
      "execution_count": null,
      "outputs": [
        {
          "output_type": "stream",
          "name": "stdout",
          "text": [
            "Epoch 1/3\n"
          ]
        },
        {
          "output_type": "stream",
          "name": "stderr",
          "text": [
            "WARNING:tensorflow:Gradients do not exist for variables ['tf_vision_encoder_decoder_model_1/encoder/vit/pooler/dense/kernel:0', 'tf_vision_encoder_decoder_model_1/encoder/vit/pooler/dense/bias:0'] when minimizing the loss. If you're using `model.compile()`, did you forget to provide a `loss` argument?\n",
            "WARNING:tensorflow:Gradients do not exist for variables ['tf_vision_encoder_decoder_model_1/encoder/vit/pooler/dense/kernel:0', 'tf_vision_encoder_decoder_model_1/encoder/vit/pooler/dense/bias:0'] when minimizing the loss. If you're using `model.compile()`, did you forget to provide a `loss` argument?\n",
            "WARNING:tensorflow:Gradients do not exist for variables ['tf_vision_encoder_decoder_model_1/encoder/vit/pooler/dense/kernel:0', 'tf_vision_encoder_decoder_model_1/encoder/vit/pooler/dense/bias:0'] when minimizing the loss. If you're using `model.compile()`, did you forget to provide a `loss` argument?\n",
            "WARNING:tensorflow:Gradients do not exist for variables ['tf_vision_encoder_decoder_model_1/encoder/vit/pooler/dense/kernel:0', 'tf_vision_encoder_decoder_model_1/encoder/vit/pooler/dense/bias:0'] when minimizing the loss. If you're using `model.compile()`, did you forget to provide a `loss` argument?\n"
          ]
        }
      ]
    },
    {
      "cell_type": "code",
      "source": [],
      "metadata": {
        "id": "YKJ0i6ZvxN0e"
      },
      "execution_count": null,
      "outputs": []
    }
  ]
}